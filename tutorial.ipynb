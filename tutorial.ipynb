{
 "cells": [
  {
   "cell_type": "code",
   "execution_count": 1,
   "metadata": {},
   "outputs": [],
   "source": [
    "# Following preamble is not necessary if you are using jupyter notebook\n",
    "#import sys\n",
    "#sys.path.append('./')\n",
    "from time import time\n",
    "import numpy as np\n",
    "import matplotlib.pyplot as plt"
   ]
  },
  {
   "cell_type": "markdown",
   "metadata": {},
   "source": [
    "## 1 Importing the home-made package `NSBH`\n",
    "\n",
    "Import *home-made* python package `NSBH` for calculating the fate of a nearby old neutron star (NS) when there are dark matter (DM) particles being captured inside it. The method is based on J. Bramante *et al*., *Phys. Rev. D* **89**, 015010 (2014). Please put your python scripts or jupyter notebooks and the package container `nsbh` in the same folder.\n",
    "\n",
    "### 1.1 Prerequisites\n",
    "\n",
    "To load `NSBH` properly, the follwing third-party packages are required:\n",
    "\n",
    "- `numpy`\n",
    "- `scipy`\n",
    "\n",
    "### 1.2 Issues\n",
    "In order to incorporate the package folder properly, if you are using spyder/vscode/pycharm...etc text editors instead of jupyter notebook, please add the following *preamble* to the python script:.<br>\n",
    "`import sys`<br>\n",
    "`sys.path.append(./)`"
   ]
  },
  {
   "cell_type": "code",
   "execution_count": 2,
   "metadata": {},
   "outputs": [],
   "source": [
    "# Please use 'from' instead of 'import' in the beginning to load the package\n",
    "# Otherwise, the namespace will be a mess\n",
    "from nsbh import * "
   ]
  },
  {
   "cell_type": "markdown",
   "metadata": {},
   "source": [
    "## 2 Introduction on the `NSBH`\n",
    "\n",
    "### 2.1 Number of DM being captured\n",
    "\n",
    "The number of DM being captured by the NS can be calculated through the function `numx`$\\leftarrow t,m_\\chi,\\sigma_{\\chi n},\\rho_\\chi,\\bar{v}_\\chi,\\tau$.\n",
    "\n",
    "The inputs $t$ is the age of NS in seconds, $m_\\chi$ the DM mass in GeV, $\\sigma_{\\chi n}$ the DM-neutron cross section in ${\\rm cm}^2$, $\\rho_\\chi$ the DM local density (default $0.3\\,{\\rm GeV\\,cm}^{-3}$), $\\bar{v}_\\chi$ the DM velocity dispersion (default $220\\,{\\rm km\\,s}^{-1}$) and $\\tau_\\chi$ the DM lifetime in seconds (default `None`). Note that when $\\tau_\\chi$ is `None` it indicates DM does not decay."
   ]
  },
  {
   "cell_type": "code",
   "execution_count": 3,
   "metadata": {},
   "outputs": [],
   "source": [
    "age = 3e17     # NS age\n",
    "mx = 0.5       # DM mass\n",
    "sigxn = 1e-45  # DM-neutron cross section"
   ]
  },
  {
   "cell_type": "code",
   "execution_count": 4,
   "metadata": {},
   "outputs": [
    {
     "data": {
      "text/plain": [
       "1.1279651370085729e+42"
      ]
     },
     "execution_count": 4,
     "metadata": {},
     "output_type": "execute_result"
    }
   ],
   "source": [
    "# Calculating DM number\n",
    "numx(age,mx,sigxn)"
   ]
  },
  {
   "cell_type": "code",
   "execution_count": 5,
   "metadata": {},
   "outputs": [],
   "source": [
    "# Draw a plot of age vs DM number with decay\n",
    "tau = 3.1e17  # DM lifetime, set to the age of the Universe\n",
    "age_ls = np.linspace(10,20,201)\n",
    "nx_ls = []\n",
    "for age in age_ls:\n",
    "    dm_num = numx(10**age,mx,sigxn,tau=tau)\n",
    "    nx_ls.append(dm_num)"
   ]
  },
  {
   "cell_type": "code",
   "execution_count": 6,
   "metadata": {},
   "outputs": [
    {
     "data": {
      "image/png": "[encoded data removed]",
      "text/plain": [
       "<Figure size 432x288 with 1 Axes>"
      ]
     },
     "metadata": {
      "needs_background": "light"
     },
     "output_type": "display_data"
    }
   ],
   "source": [
    "plt.plot(10**age_ls,nx_ls)\n",
    "plt.xscale('log')\n",
    "plt.yscale('log')\n",
    "plt.xlabel('$t$ [s]')\n",
    "plt.ylabel('$N_\\chi$')\n",
    "plt.show()"
   ]
  },
  {
   "cell_type": "markdown",
   "metadata": {},
   "source": [
    "### 2.2 DM capture rate\n",
    "\n",
    "The capture rate (# per second) can be calculated throguh `caprate`$\\leftarrow m_\\chi,\\sigma_{\\chi n}, \\rho_\\chi,\\bar{v}_\\chi$.\n",
    "\n",
    "The meanings of the inputs are identical to `numx`. In addition, if you want to calculate the capture rate without full consideration of Pauli blocking effect, it can be done by the function `caprate_no`. The inputs are the same as `caprate`."
   ]
  },
  {
   "cell_type": "code",
   "execution_count": 7,
   "metadata": {},
   "outputs": [
    {
     "data": {
      "text/plain": [
       "3.7598837900285764e+24"
      ]
     },
     "execution_count": 7,
     "metadata": {},
     "output_type": "execute_result"
    }
   ],
   "source": [
    "# Calculating capture rate\n",
    "caprate(mx,sigxn)"
   ]
  },
  {
   "cell_type": "code",
   "execution_count": 8,
   "metadata": {},
   "outputs": [
    {
     "data": {
      "text/plain": [
       "5.442643316363636e+24"
      ]
     },
     "execution_count": 8,
     "metadata": {},
     "output_type": "execute_result"
    }
   ],
   "source": [
    "# Without full Pauli blocking effect in consideration\n",
    "caprate_no(mx,sigxn)"
   ]
  },
  {
   "cell_type": "code",
   "execution_count": 9,
   "metadata": {},
   "outputs": [],
   "source": [
    "# Draw a plot of mass vs capture rate\n",
    "mx_ls = np.linspace(-6,2,101)\n",
    "cap_ls = []\n",
    "for m in mx_ls:\n",
    "    cap_rate = caprate(10**m,sigxn)\n",
    "    cap_ls.append(cap_rate)\n",
    "\n",
    "# no full Pauli blocking correction\n",
    "cap_no_pauli_ls = []\n",
    "for m in mx_ls:\n",
    "    cap_no_rate = caprate_no(10**m,sigxn)\n",
    "    cap_no_pauli_ls.append(cap_no_rate)"
   ]
  },
  {
   "cell_type": "code",
   "execution_count": 10,
   "metadata": {},
   "outputs": [
    {
     "data": {
      "image/png": "[encoded data removed]",
      "text/plain": [
       "<Figure size 432x288 with 1 Axes>"
      ]
     },
     "metadata": {
      "needs_background": "light"
     },
     "output_type": "display_data"
    }
   ],
   "source": [
    "plt.plot(10**mx_ls,cap_no_pauli_ls,label='no full Pauli blocking')\n",
    "plt.xscale('log')\n",
    "plt.yscale('log')\n",
    "plt.xlabel('$m_\\chi$ [GeV]')\n",
    "plt.ylabel('$C_c$ [s$^{-1}$]')\n",
    "\n",
    "plt.plot(10**mx_ls,cap_ls,label='full Pauli blocking')\n",
    "plt.xscale('log')\n",
    "plt.yscale('log')\n",
    "plt.xlabel('$m_\\chi$ [GeV]')\n",
    "plt.ylabel('$C_c$ [s$^{-1}$]')\n",
    "\n",
    "plt.legend(loc='lower left')\n",
    "plt.show()"
   ]
  },
  {
   "cell_type": "markdown",
   "metadata": {},
   "source": [
    "### 2.3 Star consumig criteria\n",
    "\n",
    "To determine the fate of the nearby old NS in the presence of DM with Yukawa potential, using `star_consumed`$\\leftarrow m_\\chi, N_\\chi, m_\\phi, \\alpha_\\chi$.\n",
    "\n",
    "$N_\\chi$ is the DM number and can be pre-calculated by `numx`, $m_\\phi$ the mediator mass in MeV and $\\alpha_\\chi$ the dark fine-structure constant. The function will return a tuple with 1st a boolean value and 2nd a string."
   ]
  },
  {
   "cell_type": "code",
   "execution_count": 11,
   "metadata": {},
   "outputs": [],
   "source": [
    "mphi = 10  # mediator mass\n",
    "a = 1e-2   # dark fine-structure constant"
   ]
  },
  {
   "cell_type": "code",
   "execution_count": 12,
   "metadata": {},
   "outputs": [
    {
     "data": {
      "text/plain": [
       "(False, 'Scenario (c)')"
      ]
     },
     "execution_count": 12,
     "metadata": {},
     "output_type": "execute_result"
    }
   ],
   "source": [
    "star_consumed(mx,\n",
    "            numx(age,mx,sigxn),\n",
    "            mphi,a)"
   ]
  },
  {
   "cell_type": "markdown",
   "metadata": {},
   "source": [
    "The 1st value `False` indicated the inputs will not lead to the destruction of the NS after `age`$=3\\times10^{17}\\,{\\rm s}$. The 2nd string `'Scenario (c)'` indicated the process terminated at which state. Please check `decision_tree.pdf` for the meaning of the Scenario."
   ]
  }
 ],
 "metadata": {
  "kernelspec": {
   "display_name": "Python 3",
   "language": "python",
   "name": "python3"
  },
  "language_info": {
   "codemirror_mode": {
    "name": "ipython",
    "version": 3
   },
   "file_extension": ".py",
   "mimetype": "text/x-python",
   "name": "python",
   "nbconvert_exporter": "python",
   "pygments_lexer": "ipython3",
   "version": "3.7.3"
  }
 },
 "nbformat": 4,
 "nbformat_minor": 2
}
