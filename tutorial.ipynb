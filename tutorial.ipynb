{
 "cells": [
  {
   "cell_type": "code",
   "execution_count": 1,
   "metadata": {},
   "outputs": [],
   "source": [
    "# Following preamble is not necessary if you are using jupyter notebook\n",
    "#import sys\n",
    "#sys.path.append('./')\n",
    "import numpy as np\n",
    "import matplotlib.pyplot as plt\n",
    "#%config InlineBackend.figure_format = 'retina'\n",
    "# 3-rd package progressbar2, can be installed via pip\n",
    "from progressbar import *"
   ]
  },
  {
   "cell_type": "markdown",
   "metadata": {},
   "source": [
    "## 1 Importing the home-made package `dm2nsbh`\n",
    "\n",
    "Import *home-made* python package `dm2nsbh` for calculating the fate of a nearby old neutron star (NS) when there are dark matter (DM) particles being captured inside it. The method is based on J. Bramante *et al*., *Phys. Rev. D* **89**, 015010 (2014). Please put your python scripts or jupyter notebooks and the package container `dm2nsbh` in the same folder.\n",
    "\n",
    "### 1.1 Prerequisites\n",
    "\n",
    "To load `dm2nsbh` properly, the follwing third-party packages are required:\n",
    "\n",
    "- `numpy`\n",
    "- `scipy`\n",
    "\n",
    "### 1.2 Issues\n",
    "In order to incorporate the package folder properly, if you are using spyder/vscode/pycharm...etc text editors instead of jupyter notebook, please add the following *preamble* to the python script:\n",
    "\n",
    "    import sys\n",
    "    sys.path.append(./)"
   ]
  },
  {
   "cell_type": "code",
   "execution_count": 2,
   "metadata": {},
   "outputs": [],
   "source": [
    "# Please use 'from' instead of 'import' in the beginning to load the package\n",
    "# Otherwise, the namespace will be a mess\n",
    "from dm2nsbh import *"
   ]
  },
  {
   "cell_type": "markdown",
   "metadata": {},
   "source": [
    "## 2 Introduction on the `dm2nsbh`\n",
    "\n",
    "### 2.1 Number of DM being captured\n",
    "\n",
    "The number of DM being captured by the NS can be calculated through the function `numx`$\\leftarrow t,m_\\chi,\\sigma_{\\chi n},\\rho_\\chi,\\bar{v}_\\chi,\\tau,\\varepsilon_n/\\varepsilon_p$.\n",
    "\n",
    "The inputs $t$ is the age of NS in seconds, $m_\\chi$ the DM mass in GeV, $\\sigma_{\\chi n}$ the DM-neutron cross section in ${\\rm cm}^2$, $\\rho_\\chi$ the DM local density (default $0.3\\,{\\rm GeV\\,cm}^{-3}$), $\\bar{v}_\\chi$ the DM velocity dispersion (default $220\\,{\\rm km\\,s}^{-1}$), $\\tau_\\chi$ the DM lifetime in seconds (default `None`), $\\varepsilon_n/\\varepsilon_p$ the isospin violation factor (default is 1 for symmetric). Note that when $\\tau_\\chi$ is `None` it indicates DM does not decay."
   ]
  },
  {
   "cell_type": "code",
   "execution_count": 3,
   "metadata": {},
   "outputs": [],
   "source": [
    "age = 3e17     # NS age\n",
    "mx = 0.5       # DM mass\n",
    "sigxn = 1e-45  # DM-neutron cross section\n",
    "fnfp = 1"
   ]
  },
  {
   "cell_type": "code",
   "execution_count": 4,
   "metadata": {},
   "outputs": [
    {
     "data": {
      "text/plain": [
       "1.1298973315853302e+42"
      ]
     },
     "execution_count": 4,
     "metadata": {},
     "output_type": "execute_result"
    }
   ],
   "source": [
    "# Calculating DM number\n",
    "numx(age,mx,sigxn)"
   ]
  },
  {
   "cell_type": "code",
   "execution_count": 5,
   "metadata": {},
   "outputs": [],
   "source": [
    "# Draw a plot of mx vs Nx\n",
    "tau = 3.1e17  # DM lifetime, set to the age of the Universe\n",
    "mx_ls = np.linspace(-3,2,50)\n",
    "nx_ls = []\n",
    "for mx in mx_ls:\n",
    "    nx_ls.append(numx(age,10**mx,sigxn))\n",
    "    "
   ]
  },
  {
   "cell_type": "code",
   "execution_count": 6,
   "metadata": {},
   "outputs": [
    {
     "data": {
      "image/png": "[encoded data removed]",
      "text/plain": [
       "<Figure size 432x288 with 1 Axes>"
      ]
     },
     "metadata": {
      "needs_background": "light"
     },
     "output_type": "display_data"
    }
   ],
   "source": [
    "plt.plot(10**mx_ls,nx_ls,label='Neutron')\n",
    "plt.xscale('log')\n",
    "plt.yscale('log')\n",
    "plt.xlabel('$m_\\chi$ [GeV]')\n",
    "plt.ylabel('$N_\\chi$')\n",
    "plt.show()"
   ]
  },
  {
   "cell_type": "markdown",
   "metadata": {},
   "source": [
    "### 2.2 DM capture rate\n",
    "\n",
    "The capture rate (# per second) can be calculated throguh `caprate`$\\leftarrow m_\\chi,\\sigma_{\\chi n}, \\rho_\\chi,\\bar{v}_\\chi$.\n",
    "\n",
    "The meanings of the inputs are identical to `numx`. In addition, if you want to calculate the capture rate without full consideration of Pauli blocking effect, it can be done by the function `caprate_no`. The inputs are the same as `caprate`."
   ]
  },
  {
   "cell_type": "code",
   "execution_count": 7,
   "metadata": {},
   "outputs": [
    {
     "data": {
      "text/plain": [
       "2.531965937598915e+24"
      ]
     },
     "execution_count": 7,
     "metadata": {},
     "output_type": "execute_result"
    }
   ],
   "source": [
    "# Calculating capture rate\n",
    "caprate(mx,sigxn)"
   ]
  },
  {
   "cell_type": "code",
   "execution_count": 8,
   "metadata": {},
   "outputs": [
    {
     "data": {
      "text/plain": [
       "2.781190734661818e+24"
      ]
     },
     "execution_count": 8,
     "metadata": {},
     "output_type": "execute_result"
    }
   ],
   "source": [
    "# Without full Pauli blocking effect in consideration\n",
    "caprate_no(mx,sigxn)"
   ]
  },
  {
   "cell_type": "code",
   "execution_count": 9,
   "metadata": {},
   "outputs": [],
   "source": [
    "# Draw a plot of mass vs capture rate\n",
    "mx_ls = np.linspace(-6,2,101)\n",
    "cap_ls = []\n",
    "for m in mx_ls:\n",
    "    cap_rate = caprate(10**m,sigxn)\n",
    "    cap_ls.append(cap_rate)\n",
    "\n",
    "# no full Pauli blocking correction\n",
    "cap_no_pauli_ls = []\n",
    "for m in mx_ls:\n",
    "    cap_no_rate = caprate_no(10**m,sigxn)\n",
    "    cap_no_pauli_ls.append(cap_no_rate)"
   ]
  },
  {
   "cell_type": "code",
   "execution_count": 10,
   "metadata": {},
   "outputs": [
    {
     "data": {
      "image/png": "[encoded data removed]",
      "text/plain": [
       "<Figure size 432x288 with 1 Axes>"
      ]
     },
     "metadata": {
      "needs_background": "light"
     },
     "output_type": "display_data"
    }
   ],
   "source": [
    "plt.plot(10**mx_ls,cap_no_pauli_ls,label='no full Pauli blocking')\n",
    "plt.xscale('log')\n",
    "plt.yscale('log')\n",
    "plt.xlabel('$m_\\chi$ [GeV]')\n",
    "plt.ylabel('$C_c$ [s$^{-1}$]')\n",
    "\n",
    "plt.plot(10**mx_ls,cap_ls,label='full Pauli blocking')\n",
    "plt.xscale('log')\n",
    "plt.yscale('log')\n",
    "plt.xlabel('$m_\\chi$ [GeV]')\n",
    "plt.ylabel('$C_c$ [s$^{-1}$]')\n",
    "\n",
    "plt.legend(loc='lower left')\n",
    "plt.show()"
   ]
  },
  {
   "cell_type": "markdown",
   "metadata": {},
   "source": [
    "### 2.3 Star consumig criteria\n",
    "\n",
    "To determine the fate of the nearby old NS in the presence of DM with Yukawa potential, using `star_consumed`$\\leftarrow m_\\chi, N_\\chi, m_\\phi, \\alpha_\\chi$.\n",
    "\n",
    "$N_\\chi$ is the DM number and can be pre-calculated by `numx`, $m_\\phi$ the mediator mass in MeV and $\\alpha_\\chi$ the dark fine-structure constant. The function will return a tuple with 1st a boolean value and 2nd a string."
   ]
  },
  {
   "cell_type": "code",
   "execution_count": 11,
   "metadata": {},
   "outputs": [],
   "source": [
    "Mx = 10    # DM mass in GeV\n",
    "Mphi = 10  # mediator mass in MeV\n",
    "a = 1e-2   # dark fine-structure constant"
   ]
  },
  {
   "cell_type": "code",
   "execution_count": 12,
   "metadata": {},
   "outputs": [
    {
     "data": {
      "text/plain": [
       "(False, 'Scenario (b)')"
      ]
     },
     "execution_count": 12,
     "metadata": {},
     "output_type": "execute_result"
    }
   ],
   "source": [
    "star_consumed(Mx,\n",
    "            numx(age,Mx,sigxn),\n",
    "            Mphi,a)"
   ]
  },
  {
   "cell_type": "markdown",
   "metadata": {},
   "source": [
    "The 1st value `False` indicated the inputs will not lead to the destruction of the NS after `age`$=3\\times10^{17}\\,{\\rm s}$. The 2nd string `'Scenario (b)'` indicated the process terminated at which state. Please check `decision_tree.pdf` for the meaning of the Scenario."
   ]
  },
  {
   "cell_type": "markdown",
   "metadata": {},
   "source": [
    "## 3 Exclusion plot over $m_\\chi-m_\\phi$ plane, how to calculate the data in Fig. 5\n",
    "\n",
    "When $\\alpha$ and $\\sigma_{\\chi n}$ are given, one can draw the exclusion region in the $m_\\chi-m_\\phi$ plane. Here is how we did it. We also use `open` and `write` to save the numerical results and can be plotted in any graphic apps later. The file is formatted as $(m_\\chi,m_\\phi,1/0)$ where 1 stands for consumed and 0 for not. \n",
    "\n",
    "Package `progressbar` is needed to display the current progress. If you don't want to display it, simply comment all related lines."
   ]
  },
  {
   "cell_type": "code",
   "execution_count": 13,
   "metadata": {},
   "outputs": [],
   "source": [
    "# Basic properties\n",
    "Mx = np.arange(-3,7)   # GeV\n",
    "Mphi = np.arange(-2,3) # MeV\n",
    "age = 1.5*1e17               # seconds\n",
    "alpha = 1                    # dark fine structure constant\n",
    "sigxn = 1e-47                # cm**2\n",
    "isospin = 1e-2\n",
    "total = len(Mx)*len(Mphi)    # number of data points\n",
    "\n",
    "# Progressbar widgets\n",
    "widgets=[\n",
    "    '[', Timer(), '] ',\n",
    "    Bar('█'),\n",
    "    ' (', Counter(), '/'+str(total)+') ',\n",
    "    '[',ETA(),']',\n",
    "]"
   ]
  },
  {
   "cell_type": "code",
   "execution_count": 14,
   "metadata": {},
   "outputs": [
    {
     "name": "stderr",
     "output_type": "stream",
     "text": [
      "[Elapsed Time: 0:00:01] |██████████████              | (25/50) [ETA:   0:00:01]/Users/yenhsun/Dropbox/Postdoc Projects/BH in star/code/python/dm2nsbh/core/auxfuncs.py:27: RuntimeWarning: overflow encountered in exp\n",
      "  8*a*mphi*np.exp(-y)*(1/y+1)\n",
      "/Users/yenhsun/Dropbox/Postdoc Projects/BH in star/code/python/dm2nsbh/core/auxfuncs.py:34: RuntimeWarning: overflow encountered in exp\n",
      "  (1/y+1)*mphi\n",
      "/Users/yenhsun/opt/anaconda3/lib/python3.7/site-packages/scipy/optimize/zeros.py:300: RuntimeWarning: invalid value encountered in double_scalars\n",
      "  newton_step = fval / fder\n",
      "[Elapsed Time: 0:00:02] |███████████████████         | (35/50) [ETA:   0:00:01]/Users/yenhsun/Dropbox/Postdoc Projects/BH in star/code/python/dm2nsbh/core/auxfuncs.py:34: RuntimeWarning: overflow encountered in double_scalars\n",
      "  (1/y+1)*mphi\n",
      "[Elapsed Time: 0:00:02] |████████████████████████████| (50/50) [Time:  0:00:02]\n"
     ]
    }
   ],
   "source": [
    "# Calculating constraints with basic properties as the inputs\n",
    "\n",
    "# Counter for progress bar\n",
    "counter = 0\n",
    "# If star_consumed encounters error, we ask the program to skip and do not save the result\n",
    "skip = False\n",
    "\n",
    "# Open a file to save the numerical results, uncomment this if needed\n",
    "# constraint = open('./save/ExclPlane_a'+str(alpha)+'_sig'+str(sigxn)+'_fnfp'+str(isospin)+'.txt','a')\n",
    "\n",
    "pbar = ProgressBar(max_value=total,widgets=widgets)\n",
    "for mx in Mx:\n",
    "    for mphi in Mphi:\n",
    "        \n",
    "        # Set the increment of the counter\n",
    "        counter += 1\n",
    "        \n",
    "        # Uncomment the following if error happens due to the incompatible numpy type of variables\n",
    "        # mx = float(mx)\n",
    "        # mphi = float(mphi)\n",
    "        \n",
    "        # Avoid loop kernel breaking when encounters ValueError\n",
    "        try:\n",
    "            consumed,scen = star_consumed(10**mx,numx(age,10**mx,sigxn=sigxn,fnfp=isospin),10**mphi,alpha)\n",
    "        except ValueError:\n",
    "            # star_consumed encountered error, the result should be depericated, set skip_flag = True\n",
    "            skip = True\n",
    "        \n",
    "        # Uncomment the following if you want to save the numerical result\n",
    "        # Should the program save this result?\n",
    "        # if skip:\n",
    "             ## skip is True, ValueError encountered, skip this result and reset the skip label\n",
    "        #     skip = False\n",
    "        # else:\n",
    "             ## No ValueError encountered, save the result\n",
    "        #     constraint.write('%.5f   %.5f   %d   %s\\n'%(mx,mphi,consumed*1,scen))\n",
    "        \n",
    "        # Updating progress bar\n",
    "        pbar.update(counter)\n",
    "pbar.finish()\n",
    "\n",
    "# Uncomment the following if needed\n",
    "# constraint.close()"
   ]
  },
  {
   "cell_type": "code",
   "execution_count": null,
   "metadata": {},
   "outputs": [],
   "source": []
  }
 ],
 "metadata": {
  "kernelspec": {
   "display_name": "Python 3",
   "language": "python",
   "name": "python3"
  },
  "language_info": {
   "codemirror_mode": {
    "name": "ipython",
    "version": 3
   },
   "file_extension": ".py",
   "mimetype": "text/x-python",
   "name": "python",
   "nbconvert_exporter": "python",
   "pygments_lexer": "ipython3",
   "version": "3.7.6"
  }
 },
 "nbformat": 4,
 "nbformat_minor": 2
}
